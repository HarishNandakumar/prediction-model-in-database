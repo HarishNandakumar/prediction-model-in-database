{
  "nbformat": 4,
  "nbformat_minor": 0,
  "metadata": {
    "colab": {
      "provenance": []
    },
    "kernelspec": {
      "name": "python3",
      "display_name": "Python 3"
    },
    "language_info": {
      "name": "python"
    }
  },
  "cells": [
    {
      "cell_type": "code",
      "execution_count": 2,
      "metadata": {
        "colab": {
          "base_uri": "https://localhost:8080/"
        },
        "id": "5qLWPGF_thvA",
        "outputId": "86438299-c7ea-49ff-95db-d859dd0859fa"
      },
      "outputs": [
        {
          "output_type": "stream",
          "name": "stdout",
          "text": [
            "Output file saved to /content/outuput.csv\n"
          ]
        }
      ],
      "source": [
        "import pandas as pd\n",
        "\n",
        "# Load the first CSV file (with \"Account Head\")\n",
        "file1_path = '/content/Copy of Data1.xlsx - Checking.csv'\n",
        "df1 = pd.read_csv(file1_path)\n",
        "\n",
        "# Load the second CSV file (without \"Account Head\")\n",
        "file2_path = '/content/optimized.csv'\n",
        "df2 = pd.read_csv(file2_path)\n",
        "\n",
        "# Convert the Posting Date to a consistent format\n",
        "df1['Posting Date'] = pd.to_datetime(df1['Posting Date'], format='%d/%m/%Y', dayfirst=True)\n",
        "df2['Posting Date'] = pd.to_datetime(df2['Posting Date'], format='%d-%m-%Y')\n",
        "\n",
        "# Ensure consistent data types for numerical columns\n",
        "numerical_columns = ['Amount']\n",
        "for column in numerical_columns:\n",
        "    df1[column] = df1[column].astype(float)\n",
        "    df2[column] = df2[column].astype(float)\n",
        "\n",
        "# Merge the two dataframes on common columns\n",
        "common_columns = ['Details', 'Posting Date', 'Description', 'Amount', 'Type', 'Statement']\n",
        "merged_df = pd.merge(df2, df1, on=common_columns, how='left')\n",
        "\n",
        "# Keep relevant columns and rename them to match the original format of the second file\n",
        "output_df = merged_df[['Details', 'Posting Date', 'Description', 'Amount', 'Type', 'Account Head', 'Statement']]\n",
        "\n",
        "# Save the resulting dataframe to a new CSV file\n",
        "output_file_path = '/content/outuput.csv'\n",
        "output_df.to_csv(output_file_path, index=False)\n",
        "\n",
        "print(f\"Output file saved to {output_file_path}\")"
      ]
    },
    {
      "cell_type": "code",
      "source": [],
      "metadata": {
        "id": "yXTA9oJevj7D"
      },
      "execution_count": null,
      "outputs": []
    }
  ]
}